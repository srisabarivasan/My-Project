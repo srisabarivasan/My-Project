{
  "nbformat": 4,
  "nbformat_minor": 0,
  "metadata": {
    "colab": {
      "provenance": [],
      "authorship_tag": "ABX9TyNziM9jCFd9duL//ANjwBHo",
      "include_colab_link": true
    },
    "kernelspec": {
      "name": "python3",
      "display_name": "Python 3"
    },
    "language_info": {
      "name": "python"
    }
  },
  "cells": [
    {
      "cell_type": "markdown",
      "metadata": {
        "id": "view-in-github",
        "colab_type": "text"
      },
      "source": [
        "<a href=\"https://colab.research.google.com/github/srisabarivasan/My-Project/blob/main/Untitled1.ipynb\" target=\"_parent\"><img src=\"https://colab.research.google.com/assets/colab-badge.svg\" alt=\"Open In Colab\"/></a>"
      ]
    },
    {
      "cell_type": "markdown",
      "source": [
        "Creating one and two dimensional array"
      ],
      "metadata": {
        "id": "U1G7iI6g1N_8"
      }
    },
    {
      "cell_type": "code",
      "execution_count": 7,
      "metadata": {
        "colab": {
          "base_uri": "https://localhost:8080/"
        },
        "id": "zneV121pz9qx",
        "outputId": "2778f289-a4f1-4abd-c4bc-f56961ed612b"
      },
      "outputs": [
        {
          "output_type": "stream",
          "name": "stdout",
          "text": [
            "[1 2 3]\n",
            "[[1 2 3]\n",
            " [4 5 6]\n",
            " [7 8 9]]\n"
          ]
        }
      ],
      "source": [
        "import numpy as np\n",
        "x=np.array([1,2,3])\n",
        "y=np.array([[1,2,3],[4,5,6],[7,8,9]])\n",
        "print(x)\n",
        "print(y)"
      ]
    },
    {
      "cell_type": "markdown",
      "source": [
        "Finding dimension of array"
      ],
      "metadata": {
        "id": "BaKS2uIg07bK"
      }
    },
    {
      "cell_type": "code",
      "source": [
        "print(x.ndim)\n",
        "print(y.ndim)"
      ],
      "metadata": {
        "colab": {
          "base_uri": "https://localhost:8080/"
        },
        "id": "_VxfIq3X0oNx",
        "outputId": "62f81edf-96c5-4f9f-8f6b-48d77373a4d5"
      },
      "execution_count": 6,
      "outputs": [
        {
          "output_type": "stream",
          "name": "stdout",
          "text": [
            "1\n",
            "2\n"
          ]
        }
      ]
    },
    {
      "cell_type": "markdown",
      "source": [
        "Finding shape of array"
      ],
      "metadata": {
        "id": "5wxQbMPc06aZ"
      }
    },
    {
      "cell_type": "code",
      "source": [
        "print(x.shape)\n",
        "print(y.shape)"
      ],
      "metadata": {
        "colab": {
          "base_uri": "https://localhost:8080/"
        },
        "id": "nFaBS75L1oYF",
        "outputId": "02399ea1-8ae7-47b9-8d5e-92594f85bf13"
      },
      "execution_count": 8,
      "outputs": [
        {
          "output_type": "stream",
          "name": "stdout",
          "text": [
            "(3,)\n",
            "(3, 3)\n"
          ]
        }
      ]
    },
    {
      "cell_type": "markdown",
      "source": [
        "Finding size of array"
      ],
      "metadata": {
        "id": "Qcq_pDx212CV"
      }
    },
    {
      "cell_type": "code",
      "source": [
        "print(x.size)\n",
        "print(y.size)"
      ],
      "metadata": {
        "colab": {
          "base_uri": "https://localhost:8080/"
        },
        "id": "YkfUlI9715XO",
        "outputId": "e953c306-e63a-4cd7-9bda-e0204dd56047"
      },
      "execution_count": 9,
      "outputs": [
        {
          "output_type": "stream",
          "name": "stdout",
          "text": [
            "3\n",
            "9\n"
          ]
        }
      ]
    },
    {
      "cell_type": "markdown",
      "source": [
        "Finding datatype of array"
      ],
      "metadata": {
        "id": "L4wcCLmr2B1Y"
      }
    },
    {
      "cell_type": "code",
      "source": [
        "print(x.dtype)\n",
        "print(y.dtype)\n",
        "z=np.array([1.1,2.2,3.3])\n",
        "print(z.dtype)"
      ],
      "metadata": {
        "colab": {
          "base_uri": "https://localhost:8080/"
        },
        "id": "keafCAPr2Im9",
        "outputId": "47eb4309-f04f-46aa-ed86-fed4ff1874f8"
      },
      "execution_count": 12,
      "outputs": [
        {
          "output_type": "stream",
          "name": "stdout",
          "text": [
            "int64\n",
            "int64\n",
            "float64\n"
          ]
        }
      ]
    },
    {
      "cell_type": "markdown",
      "source": [
        "Finding itemsize of array"
      ],
      "metadata": {
        "id": "fJDPnGJ23rds"
      }
    },
    {
      "cell_type": "code",
      "source": [
        "print(x.itemsize)\n",
        "print(y.itemsize)\n",
        "print(z.itemsize)"
      ],
      "metadata": {
        "colab": {
          "base_uri": "https://localhost:8080/"
        },
        "id": "hS1TnbY-2mvJ",
        "outputId": "d21c4c55-9c67-44a3-8765-748dd1a57683"
      },
      "execution_count": 14,
      "outputs": [
        {
          "output_type": "stream",
          "name": "stdout",
          "text": [
            "8\n",
            "8\n",
            "8\n"
          ]
        }
      ]
    },
    {
      "cell_type": "markdown",
      "source": [
        "Finding bytes of array"
      ],
      "metadata": {
        "id": "rTyMj8dO3nwU"
      }
    },
    {
      "cell_type": "code",
      "source": [
        "print(x.nbytes)\n",
        "print(y.nbytes)\n",
        "print(z.nbytes)"
      ],
      "metadata": {
        "colab": {
          "base_uri": "https://localhost:8080/"
        },
        "id": "rRcsulTZ2xH-",
        "outputId": "829c6857-62e8-4670-c341-9c559bffa485"
      },
      "execution_count": 15,
      "outputs": [
        {
          "output_type": "stream",
          "name": "stdout",
          "text": [
            "24\n",
            "72\n",
            "24\n"
          ]
        }
      ]
    },
    {
      "cell_type": "markdown",
      "source": [
        "Arange function"
      ],
      "metadata": {
        "id": "_7tmXTCx3jE5"
      }
    },
    {
      "cell_type": "code",
      "source": [
        "a=np.arange(10)\n",
        "print(a)"
      ],
      "metadata": {
        "colab": {
          "base_uri": "https://localhost:8080/"
        },
        "id": "nOWQaY0L3GCU",
        "outputId": "59708cc8-d4f8-404a-de64-3346ed3f1000"
      },
      "execution_count": 22,
      "outputs": [
        {
          "output_type": "stream",
          "name": "stdout",
          "text": [
            "[0 1 2 3 4 5 6 7 8 9]\n"
          ]
        }
      ]
    },
    {
      "cell_type": "code",
      "source": [
        "b=np.arange(1,9,2)\n",
        "print(b)"
      ],
      "metadata": {
        "colab": {
          "base_uri": "https://localhost:8080/"
        },
        "id": "zMin3Fqc3adz",
        "outputId": "8687c637-c7ca-4ab3-e235-a3c8d9d926db"
      },
      "execution_count": 20,
      "outputs": [
        {
          "output_type": "stream",
          "name": "stdout",
          "text": [
            "[1 3 5 7]\n"
          ]
        }
      ]
    },
    {
      "cell_type": "code",
      "source": [
        "c=np.array([1,2,3,4])\n",
        "c.reshape([2,2])\n"
      ],
      "metadata": {
        "colab": {
          "base_uri": "https://localhost:8080/"
        },
        "id": "VqMaF1fE35CE",
        "outputId": "849aabaa-7f01-47f8-d98d-210053bb089c"
      },
      "execution_count": 30,
      "outputs": [
        {
          "output_type": "execute_result",
          "data": {
            "text/plain": [
              "array([[1, 2],\n",
              "       [3, 4]])"
            ]
          },
          "metadata": {},
          "execution_count": 30
        }
      ]
    }
  ]
}